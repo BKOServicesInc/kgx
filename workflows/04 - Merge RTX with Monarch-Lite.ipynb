{
 "cells": [
  {
   "cell_type": "code",
   "execution_count": null,
   "metadata": {},
   "outputs": [],
   "source": [
    "from kgx import Transformer, NeoTransformer"
   ]
  },
  {
   "cell_type": "code",
   "execution_count": null,
   "metadata": {},
   "outputs": [],
   "source": [
    "# Monarch-Lite\n",
    "\n",
    "# Credentials can be found from 'Registry of Biolink-compatible Neo4 instances' spreadsheet\n",
    "monarch_host = ''\n",
    "ports = {'bolt': 7687}\n",
    "monarch_username = ''\n",
    "monarch_password = ''\n",
    "\n",
    "# Initialize NeoTransformer\n",
    "monarch_lite_transformer = NeoTransformer(host=monarch_host, ports=ports, username=monarch_username, password=monarch_password)\n",
    "\n",
    "# Define filters\n",
    "monarch_lite_transformer.set_filter(\"subject_category\", \"gene\")\n",
    "monarch_lite_transformer.set_filter(\"object_category\", \"phenotypic_feature\")\n",
    "monarch_lite_transformer.set_filter(\"edge_label\", \"has_phenotype\")\n",
    "\n",
    "# Load nodes and edges from remote Monarch-Lite Neo4j instance\n",
    "start = 0\n",
    "end = 20000\n",
    "monarch_lite_transformer.load(start=start, end=end)\n",
    "monarch_lite_transformer.report()"
   ]
  },
  {
   "cell_type": "code",
   "execution_count": null,
   "metadata": {},
   "outputs": [],
   "source": [
    "# RTX\n",
    "\n",
    "# Credentials can be found from 'Registry of Biolink-compatible Neo4 instances' spreadsheet\n",
    "rtx_host = ''\n",
    "ports = {'bolt': 7687}\n",
    "rtx_username = ''\n",
    "rtx_password = ''\n",
    "\n",
    "# Initialize NeoTransformer\n",
    "rtx_transformer = NeoTransformer(host=rtx_uri, ports=ports, username=rtx_username, password=rtx_password)\n",
    "\n",
    "# Define filters\n",
    "rtx_transformer.set_filter(\"subject_category\", \"phenotypic_feature\")\n",
    "rtx_transformer.set_filter(\"object_category\", \"anatomical_entity\")\n",
    "rtx_transformer.set_filter(\"edge_label\", \"affects\")\n",
    "\n",
    "# Load nodes and edges from remote SemMedDB Neo4j instance\n",
    "start = 0\n",
    "end = 20000\n",
    "rtx_transformer.load(start=start, end=end)\n",
    "rtx_transformer.report()"
   ]
  },
  {
   "cell_type": "code",
   "execution_count": null,
   "metadata": {},
   "outputs": [],
   "source": [
    "# Then we merge Monarch-Lite graph with RTX graph\n",
    "graphs = [monarch_lite_transformer.graph, rtx_transformer.graph]\n",
    "merged_transformer = Transformer()\n",
    "merged_transformer.merge(graphs)"
   ]
  },
  {
   "cell_type": "code",
   "execution_count": null,
   "metadata": {},
   "outputs": [],
   "source": [
    "# Now, we get a phenotypic_entity common in both the graphs\n",
    "short_ear_node = [n for n in merged_transformer.graph.nodes(data=True) if n[1]['id'] == 'HP:0400005'][0]\n",
    "short_ear_node"
   ]
  },
  {
   "cell_type": "code",
   "execution_count": null,
   "metadata": {},
   "outputs": [],
   "source": [
    "# we get all in-coming edges to this node\n",
    "in_edges = merged_transformer.graph.in_edges(short_ear_node[0], data=True)\n",
    "\n",
    "# we can see that there are 8 incoming edges from gene nodes (from Monarch-Lite)\n",
    "in_edges"
   ]
  },
  {
   "cell_type": "code",
   "execution_count": null,
   "metadata": {
    "scrolled": false
   },
   "outputs": [],
   "source": [
    "# we get all out-going edges from this node\n",
    "out_edges = merged_transformer.graph.out_edges(short_ear_node[0], data=True)\n",
    "\n",
    "# we can see that there is 1 outgoing edge from our node to anatomical_entity (from RTX)\n",
    "out_edges"
   ]
  },
  {
   "cell_type": "code",
   "execution_count": null,
   "metadata": {},
   "outputs": [],
   "source": []
  }
 ],
 "metadata": {
  "kernelspec": {
   "display_name": "Python 3",
   "language": "python",
   "name": "python3"
  },
  "language_info": {
   "codemirror_mode": {
    "name": "ipython",
    "version": 3
   },
   "file_extension": ".py",
   "mimetype": "text/x-python",
   "name": "python",
   "nbconvert_exporter": "python",
   "pygments_lexer": "ipython3",
   "version": "3.6.4"
  }
 },
 "nbformat": 4,
 "nbformat_minor": 2
}
