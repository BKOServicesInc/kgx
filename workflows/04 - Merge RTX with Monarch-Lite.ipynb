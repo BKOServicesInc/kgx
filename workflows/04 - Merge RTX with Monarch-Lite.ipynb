{
 "cells": [
  {
   "cell_type": "code",
   "execution_count": 1,
   "metadata": {},
   "outputs": [
    {
     "name": "stderr",
     "output_type": "stream",
     "text": [
      "/Users/deepak.unni3/GIT/kgx/test/lib/python3.6/site-packages/cachier/mongo_core.py:24: UserWarning: Cachier warning: pymongo was not found. MongoDB cores will not work.\n",
      "  \"Cachier warning: pymongo was not found. MongoDB cores will not work.\")\n"
     ]
    }
   ],
   "source": [
    "from kgx import Transformer, NeoTransformer"
   ]
  },
  {
   "cell_type": "code",
   "execution_count": 2,
   "metadata": {},
   "outputs": [
    {
     "name": "stdout",
     "output_type": "stream",
     "text": [
      "2018-06-08 23:46:57,499 root       DEBUG      MATCH (n:gene:phenotypic_feature ) RETURN n SKIP 0 LIMIT 1000;\n",
      "2018-06-08 23:46:57,719 root       DEBUG      MATCH (s:gene)-[p:has_phenotype ]->(o:phenotypic_feature)\n",
      "            RETURN s,p,o\n",
      "            SKIP 0 LIMIT 1000;\n",
      "2018-06-08 23:47:00,432 root       DEBUG      MATCH (s:gene)-[p:has_phenotype ]->(o:phenotypic_feature)\n",
      "            RETURN s,p,o\n",
      "            SKIP 1000 LIMIT 1000;\n",
      "2018-06-08 23:47:02,821 root       DEBUG      MATCH (s:gene)-[p:has_phenotype ]->(o:phenotypic_feature)\n",
      "            RETURN s,p,o\n",
      "            SKIP 2000 LIMIT 1000;\n",
      "2018-06-08 23:47:08,770 root       DEBUG      MATCH (s:gene)-[p:has_phenotype ]->(o:phenotypic_feature)\n",
      "            RETURN s,p,o\n",
      "            SKIP 3000 LIMIT 1000;\n",
      "2018-06-08 23:47:13,840 root       DEBUG      MATCH (s:gene)-[p:has_phenotype ]->(o:phenotypic_feature)\n",
      "            RETURN s,p,o\n",
      "            SKIP 4000 LIMIT 1000;\n",
      "2018-06-08 23:47:21,343 root       DEBUG      MATCH (s:gene)-[p:has_phenotype ]->(o:phenotypic_feature)\n",
      "            RETURN s,p,o\n",
      "            SKIP 5000 LIMIT 1000;\n",
      "2018-06-08 23:47:26,276 root       DEBUG      MATCH (s:gene)-[p:has_phenotype ]->(o:phenotypic_feature)\n",
      "            RETURN s,p,o\n",
      "            SKIP 6000 LIMIT 1000;\n",
      "2018-06-08 23:47:29,897 root       DEBUG      MATCH (s:gene)-[p:has_phenotype ]->(o:phenotypic_feature)\n",
      "            RETURN s,p,o\n",
      "            SKIP 7000 LIMIT 1000;\n",
      "2018-06-08 23:47:32,647 root       DEBUG      MATCH (s:gene)-[p:has_phenotype ]->(o:phenotypic_feature)\n",
      "            RETURN s,p,o\n",
      "            SKIP 8000 LIMIT 1000;\n",
      "2018-06-08 23:47:35,767 root       DEBUG      MATCH (s:gene)-[p:has_phenotype ]->(o:phenotypic_feature)\n",
      "            RETURN s,p,o\n",
      "            SKIP 9000 LIMIT 1000;\n",
      "2018-06-08 23:47:38,571 root       DEBUG      MATCH (s:gene)-[p:has_phenotype ]->(o:phenotypic_feature)\n",
      "            RETURN s,p,o\n",
      "            SKIP 10000 LIMIT 1000;\n",
      "2018-06-08 23:47:40,569 root       DEBUG      MATCH (s:gene)-[p:has_phenotype ]->(o:phenotypic_feature)\n",
      "            RETURN s,p,o\n",
      "            SKIP 11000 LIMIT 1000;\n",
      "2018-06-08 23:47:42,902 root       DEBUG      MATCH (s:gene)-[p:has_phenotype ]->(o:phenotypic_feature)\n",
      "            RETURN s,p,o\n",
      "            SKIP 12000 LIMIT 1000;\n",
      "2018-06-08 23:47:44,917 root       DEBUG      MATCH (s:gene)-[p:has_phenotype ]->(o:phenotypic_feature)\n",
      "            RETURN s,p,o\n",
      "            SKIP 13000 LIMIT 1000;\n",
      "2018-06-08 23:47:47,596 root       DEBUG      MATCH (s:gene)-[p:has_phenotype ]->(o:phenotypic_feature)\n",
      "            RETURN s,p,o\n",
      "            SKIP 14000 LIMIT 1000;\n",
      "2018-06-08 23:47:49,508 root       DEBUG      MATCH (s:gene)-[p:has_phenotype ]->(o:phenotypic_feature)\n",
      "            RETURN s,p,o\n",
      "            SKIP 15000 LIMIT 1000;\n",
      "2018-06-08 23:47:51,826 root       DEBUG      MATCH (s:gene)-[p:has_phenotype ]->(o:phenotypic_feature)\n",
      "            RETURN s,p,o\n",
      "            SKIP 16000 LIMIT 1000;\n",
      "2018-06-08 23:47:54,000 root       DEBUG      MATCH (s:gene)-[p:has_phenotype ]->(o:phenotypic_feature)\n",
      "            RETURN s,p,o\n",
      "            SKIP 17000 LIMIT 1000;\n",
      "2018-06-08 23:47:56,847 root       DEBUG      MATCH (s:gene)-[p:has_phenotype ]->(o:phenotypic_feature)\n",
      "            RETURN s,p,o\n",
      "            SKIP 18000 LIMIT 1000;\n",
      "2018-06-08 23:47:58,727 root       DEBUG      MATCH (s:gene)-[p:has_phenotype ]->(o:phenotypic_feature)\n",
      "            RETURN s,p,o\n",
      "            SKIP 19000 LIMIT 1000;\n",
      "Total number of nodes: 3684\n",
      "Total number of edges: 20000\n"
     ]
    }
   ],
   "source": [
    "# Monarch-Lite\n",
    "\n",
    "# Credentials can be found from 'Registry of Biolink-compatible Neo4 instances' spreadsheet\n",
    "monarch_uri = ''\n",
    "monarch_username = ''\n",
    "monarch_password = ''\n",
    "\n",
    "# Initialize NeoTransformer\n",
    "monarch_lite_transformer = NeoTransformer(uri=monarch_uri, username=monarch_username, password=monarch_password)\n",
    "\n",
    "# Define filters\n",
    "monarch_lite_transformer.set_filter(\"subject_category\", \"gene\")\n",
    "monarch_lite_transformer.set_filter(\"object_category\", \"phenotypic_feature\")\n",
    "monarch_lite_transformer.set_filter(\"edge_label\", \"has_phenotype\")\n",
    "\n",
    "# Load nodes and edges from remote Monarch-Lite Neo4j instance\n",
    "start = 0\n",
    "end = 20000\n",
    "monarch_lite_transformer.load(start=start, end=end)\n",
    "monarch_lite_transformer.report()"
   ]
  },
  {
   "cell_type": "code",
   "execution_count": 3,
   "metadata": {},
   "outputs": [
    {
     "name": "stdout",
     "output_type": "stream",
     "text": [
      "2018-06-08 23:48:01,666 root       DEBUG      MATCH (n:phenotypic_feature:anatomical_entity ) RETURN n SKIP 0 LIMIT 1000;\n",
      "2018-06-08 23:48:02,108 root       DEBUG      MATCH (s:phenotypic_feature)-[p:affects ]->(o:anatomical_entity)\n",
      "            RETURN s,p,o\n",
      "            SKIP 0 LIMIT 1000;\n",
      "2018-06-08 23:48:03,641 root       DEBUG      MATCH (s:phenotypic_feature)-[p:affects ]->(o:anatomical_entity)\n",
      "            RETURN s,p,o\n",
      "            SKIP 1000 LIMIT 1000;\n",
      "2018-06-08 23:48:04,893 root       DEBUG      MATCH (s:phenotypic_feature)-[p:affects ]->(o:anatomical_entity)\n",
      "            RETURN s,p,o\n",
      "            SKIP 2000 LIMIT 1000;\n",
      "2018-06-08 23:48:06,144 root       DEBUG      MATCH (s:phenotypic_feature)-[p:affects ]->(o:anatomical_entity)\n",
      "            RETURN s,p,o\n",
      "            SKIP 3000 LIMIT 1000;\n",
      "Total number of nodes: 3856\n",
      "Total number of edges: 2963\n"
     ]
    }
   ],
   "source": [
    "# RTX\n",
    "\n",
    "# Credentials can be found from 'Registry of Biolink-compatible Neo4 instances' spreadsheet\n",
    "rtx_uri = ''\n",
    "rtx_username = ''\n",
    "rtx_password = ''\n",
    "\n",
    "# Initialize NeoTransformer\n",
    "rtx_transformer = NeoTransformer(uri=rtx_uri, username=rtx_username, password=rtx_password)\n",
    "\n",
    "# Define filters\n",
    "rtx_transformer.set_filter(\"subject_category\", \"phenotypic_feature\")\n",
    "rtx_transformer.set_filter(\"object_category\", \"anatomical_entity\")\n",
    "rtx_transformer.set_filter(\"edge_label\", \"affects\")\n",
    "\n",
    "# Load nodes and edges from remote SemMedDB Neo4j instance\n",
    "start = 0\n",
    "end = 20000\n",
    "rtx_transformer.load(start=start, end=end)\n",
    "rtx_transformer.report()"
   ]
  },
  {
   "cell_type": "code",
   "execution_count": 7,
   "metadata": {},
   "outputs": [],
   "source": [
    "# Then we merge Monarch-Lite graph with RTX graph\n",
    "graphs = [monarch_lite_transformer.graph, rtx_transformer.graph]\n",
    "merged_transformer = Transformer()\n",
    "merged_transformer.merge(graphs)"
   ]
  },
  {
   "cell_type": "code",
   "execution_count": 8,
   "metadata": {},
   "outputs": [
    {
     "data": {
      "text/plain": [
       "('HP:0400005',\n",
       " {'expanded': True,\n",
       "  'name': 'Short ear',\n",
       "  'rtx_name': 'HP:0400005',\n",
       "  'description': 'Median longitudinal ear length less than two SD above the mean determined by the maximal distance from the superior aspect to the inferior aspect of the external ear.',\n",
       "  'id': 'HP:0400005',\n",
       "  'accession': '0400005',\n",
       "  'UUID': 'ec2e0018-5907-11e8-95d6-060473434358',\n",
       "  'category': 'phenotypic_feature',\n",
       "  'uri': 'http://purl.obolibrary.org/obo/HP_0400005',\n",
       "  'seed_node_uuid': 'dbf1734c-5907-11e8-95d6-060473434358',\n",
       "  'labels': ['phenotypic_feature', 'Base']})"
      ]
     },
     "execution_count": 8,
     "metadata": {},
     "output_type": "execute_result"
    }
   ],
   "source": [
    "# Now, we get a phenotypic_entity common in both the graphs\n",
    "short_ear_node = [n for n in merged_transformer.graph.nodes(data=True) if n[1]['id'] == 'HP:0400005'][0]\n",
    "short_ear_node"
   ]
  },
  {
   "cell_type": "code",
   "execution_count": 13,
   "metadata": {},
   "outputs": [
    {
     "data": {
      "text/plain": [
       "[('HGNC:13315',\n",
       "  'HP:0400005',\n",
       "  {'is_defined_by': 'Monarch',\n",
       "   'provided_by': ['https://data.monarchinitiative.org/ttl/hpoa.ttl'],\n",
       "   'evidence': ['http://purl.obolibrary.org/obo/ECO_0000501'],\n",
       "   'qualifier': 'direct',\n",
       "   'publications': [],\n",
       "   'relation': 'RO:0002200',\n",
       "   'subject': 'HGNC:13315',\n",
       "   'object': 'HP:0400005',\n",
       "   'id': 3397073,\n",
       "   'type': 'has_phenotype',\n",
       "   'predicate': 'has_phenotype'}),\n",
       " ('HGNC:25726',\n",
       "  'HP:0400005',\n",
       "  {'is_defined_by': 'Monarch',\n",
       "   'provided_by': ['https://data.monarchinitiative.org/ttl/hpoa.ttl'],\n",
       "   'evidence': ['http://purl.obolibrary.org/obo/ECO_0000322',\n",
       "    'http://purl.obolibrary.org/obo/ECO_0000220',\n",
       "    'http://purl.obolibrary.org/obo/ECO_0000501'],\n",
       "   'qualifier': 'direct',\n",
       "   'publications': ['http://www.ncbi.nlm.nih.gov/pubmed/25644381',\n",
       "    'http://www.ncbi.nlm.nih.gov/pubmed/1746601'],\n",
       "   'relation': 'RO:0002200',\n",
       "   'subject': 'HGNC:25726',\n",
       "   'object': 'HP:0400005',\n",
       "   'id': 3904995,\n",
       "   'type': 'has_phenotype',\n",
       "   'predicate': 'has_phenotype'}),\n",
       " ('NCBIGene:388388292',\n",
       "  'HP:0400005',\n",
       "  {'is_defined_by': 'Monarch',\n",
       "   'provided_by': ['https://data.monarchinitiative.org/ttl/monarch.ttl'],\n",
       "   'evidence': [],\n",
       "   'qualifier': 'direct',\n",
       "   'publications': ['http://www.ncbi.nlm.nih.gov/pubmed/24194898'],\n",
       "   'relation': 'RO:0002200',\n",
       "   'subject': 'NCBIGene:388388292',\n",
       "   'object': 'HP:0400005',\n",
       "   'id': 3373627,\n",
       "   'type': 'has_phenotype',\n",
       "   'predicate': 'has_phenotype'}),\n",
       " ('MGI:96794',\n",
       "  'HP:0400005',\n",
       "  {'is_defined_by': 'Monarch',\n",
       "   'provided_by': ['https://data.monarchinitiative.org/ttl/mgi_slim.ttl'],\n",
       "   'evidence': ['http://purl.obolibrary.org/obo/ECO_0000059'],\n",
       "   'qualifier': 'direct',\n",
       "   'publications': ['http://www.ncbi.nlm.nih.gov/pubmed/20376364'],\n",
       "   'relation': 'RO:0002200',\n",
       "   'subject': 'MGI:96794',\n",
       "   'object': 'HP:0400005',\n",
       "   'id': 2383249,\n",
       "   'type': 'has_phenotype',\n",
       "   'predicate': 'has_phenotype'}),\n",
       " ('MGI:1338938',\n",
       "  'HP:0400005',\n",
       "  {'is_defined_by': 'Monarch',\n",
       "   'provided_by': ['https://data.monarchinitiative.org/ttl/mgi_slim.ttl'],\n",
       "   'evidence': ['http://purl.obolibrary.org/obo/ECO_0000059'],\n",
       "   'qualifier': 'direct',\n",
       "   'publications': ['http://www.ncbi.nlm.nih.gov/pubmed/15492776'],\n",
       "   'relation': 'RO:0002200',\n",
       "   'subject': 'MGI:1338938',\n",
       "   'object': 'HP:0400005',\n",
       "   'id': 3061230,\n",
       "   'type': 'has_phenotype',\n",
       "   'predicate': 'has_phenotype'}),\n",
       " ('MGI:88181',\n",
       "  'HP:0400005',\n",
       "  {'is_defined_by': 'Monarch',\n",
       "   'provided_by': ['https://data.monarchinitiative.org/ttl/mgi_slim.ttl'],\n",
       "   'evidence': ['http://purl.obolibrary.org/obo/ECO_0000059'],\n",
       "   'qualifier': 'direct',\n",
       "   'publications': ['http://www.ncbi.nlm.nih.gov/pubmed/5556347',\n",
       "    'http://www.ncbi.nlm.nih.gov/pubmed/1339316',\n",
       "    'http://www.ncbi.nlm.nih.gov/pubmed/7710253',\n",
       "    'http://www.ncbi.nlm.nih.gov/pubmed/26234751'],\n",
       "   'relation': 'RO:0002200',\n",
       "   'subject': 'MGI:88181',\n",
       "   'object': 'HP:0400005',\n",
       "   'id': 3869615,\n",
       "   'type': 'has_phenotype',\n",
       "   'predicate': 'has_phenotype'}),\n",
       " ('MGI:88138',\n",
       "  'HP:0400005',\n",
       "  {'is_defined_by': 'Monarch',\n",
       "   'provided_by': ['https://data.monarchinitiative.org/ttl/mgi_slim.ttl'],\n",
       "   'evidence': ['http://purl.obolibrary.org/obo/ECO_0000059'],\n",
       "   'qualifier': 'direct',\n",
       "   'publications': ['http://www.ncbi.nlm.nih.gov/pubmed/11709185'],\n",
       "   'relation': 'RO:0002200',\n",
       "   'subject': 'MGI:88138',\n",
       "   'object': 'HP:0400005',\n",
       "   'id': 3925365,\n",
       "   'type': 'has_phenotype',\n",
       "   'predicate': 'has_phenotype'}),\n",
       " ('MGI:95553',\n",
       "  'HP:0400005',\n",
       "  {'is_defined_by': 'Monarch',\n",
       "   'provided_by': ['https://data.monarchinitiative.org/ttl/mgi_slim.ttl'],\n",
       "   'evidence': ['http://purl.obolibrary.org/obo/ECO_0000059'],\n",
       "   'qualifier': 'direct',\n",
       "   'publications': ['http://www.ncbi.nlm.nih.gov/pubmed/4557539'],\n",
       "   'relation': 'RO:0002200',\n",
       "   'subject': 'MGI:95553',\n",
       "   'object': 'HP:0400005',\n",
       "   'id': 3486732,\n",
       "   'type': 'has_phenotype',\n",
       "   'predicate': 'has_phenotype'})]"
      ]
     },
     "execution_count": 13,
     "metadata": {},
     "output_type": "execute_result"
    }
   ],
   "source": [
    "# we get all in-coming edges to this node\n",
    "in_edges = merged_transformer.graph.in_edges(short_ear_node[0], data=True)\n",
    "\n",
    "# we can see that there are 8 incoming edges from gene nodes (from Monarch-Lite)\n",
    "in_edges"
   ]
  },
  {
   "cell_type": "code",
   "execution_count": 14,
   "metadata": {
    "scrolled": false
   },
   "outputs": [
    {
     "data": {
      "text/plain": [
       "[('HP:0400005',\n",
       "  'UBERON:0001691',\n",
       "  {'is_defined_by': 'RTX',\n",
       "   'predicate': 'affects',\n",
       "   'source_node_uuid': 'ec2e0018-5907-11e8-95d6-060473434358',\n",
       "   'target_node_uuid': '0a42cd6a-5af5-11e8-95d6-060473434358',\n",
       "   'provided_by': 'BioLink',\n",
       "   'seed_node_uuid': 'dbf1734c-5907-11e8-95d6-060473434358',\n",
       "   'relation': 'affects',\n",
       "   'subject': 'HP:0400005',\n",
       "   'object': 'UBERON:0001691',\n",
       "   'id': 16269033,\n",
       "   'type': 'affects'})]"
      ]
     },
     "execution_count": 14,
     "metadata": {},
     "output_type": "execute_result"
    }
   ],
   "source": [
    "# we get all out-going edges from this node\n",
    "out_edges = merged_transformer.graph.out_edges(short_ear_node[0], data=True)\n",
    "\n",
    "# we can see that there is 1 outgoing edge from our node to anatomical_entity (from RTX)\n",
    "out_edges"
   ]
  },
  {
   "cell_type": "code",
   "execution_count": null,
   "metadata": {},
   "outputs": [],
   "source": []
  }
 ],
 "metadata": {
  "kernelspec": {
   "display_name": "Python 3",
   "language": "python",
   "name": "python3"
  },
  "language_info": {
   "codemirror_mode": {
    "name": "ipython",
    "version": 3
   },
   "file_extension": ".py",
   "mimetype": "text/x-python",
   "name": "python",
   "nbconvert_exporter": "python",
   "pygments_lexer": "ipython3",
   "version": "3.6.4"
  }
 },
 "nbformat": 4,
 "nbformat_minor": 2
}
