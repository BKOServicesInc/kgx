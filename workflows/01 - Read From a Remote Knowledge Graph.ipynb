{
 "cells": [
  {
   "cell_type": "code",
   "execution_count": null,
   "metadata": {},
   "outputs": [],
   "source": [
    "from kgx import Transformer, NeoTransformer, PandasTransformer"
   ]
  },
  {
   "cell_type": "code",
   "execution_count": null,
   "metadata": {},
   "outputs": [],
   "source": [
    "# Monarch-Lite\n",
    "\n",
    "# Credentials can be found from 'Registry of Biolink-compatible Neo4 instances' spreadsheet\n",
    "monarch_host = ''\n",
    "ports = {'bolt': 7687}\n",
    "monarch_username = ''\n",
    "monarch_password = ''\n",
    "\n",
    "# Initialize NeoTransformer\n",
    "monarch_lite_transformer = NeoTransformer(host=monarch_host, ports=ports, username=monarch_username, password=monarch_password)"
   ]
  },
  {
   "cell_type": "code",
   "execution_count": null,
   "metadata": {},
   "outputs": [],
   "source": [
    "# Define filters\n",
    "monarch_lite_transformer.set_filter(\"subject_category\", \"gene\")\n",
    "monarch_lite_transformer.set_filter(\"object_category\", \"disease\")\n",
    "monarch_lite_transformer.set_filter(\"edge_label\", \"contributes_to\")"
   ]
  },
  {
   "cell_type": "code",
   "execution_count": null,
   "metadata": {},
   "outputs": [],
   "source": [
    "# Load nodes and edges from Monarch-Lite\n",
    "start = 0\n",
    "end = 5000\n",
    "monarch_lite_transformer.load(start=start, end=end)\n",
    "monarch_lite_transformer.report()"
   ]
  },
  {
   "cell_type": "code",
   "execution_count": null,
   "metadata": {},
   "outputs": [],
   "source": [
    "# Show the first 10 nodes from the networkx graph\n",
    "monarch_lite_transformer.graph.nodes(data=True)[0:9]"
   ]
  },
  {
   "cell_type": "code",
   "execution_count": null,
   "metadata": {},
   "outputs": [],
   "source": [
    "# Show the first 10 edges from the networkx graph\n",
    "monarch_lite_transformer.graph.edges(data=True)[0:9]"
   ]
  },
  {
   "cell_type": "code",
   "execution_count": null,
   "metadata": {},
   "outputs": [],
   "source": [
    "# Create a PandasTransformer, required for CSV export\n",
    "pandas_transformer = PandasTransformer(monarch_lite_transformer.graph)\n",
    "\n",
    "# export the networkx graph as CSV\n",
    "pandas_transformer.save(\"monarch_lite_data.csv\")\n",
    "\n",
    "# You should see monarch_lite_data.csv.tar in your current folder."
   ]
  }
 ],
 "metadata": {
  "kernelspec": {
   "display_name": "Python 3",
   "language": "python",
   "name": "python3"
  },
  "language_info": {
   "codemirror_mode": {
    "name": "ipython",
    "version": 3
   },
   "file_extension": ".py",
   "mimetype": "text/x-python",
   "name": "python",
   "nbconvert_exporter": "python",
   "pygments_lexer": "ipython3",
   "version": "3.6.4"
  }
 },
 "nbformat": 4,
 "nbformat_minor": 2
}
