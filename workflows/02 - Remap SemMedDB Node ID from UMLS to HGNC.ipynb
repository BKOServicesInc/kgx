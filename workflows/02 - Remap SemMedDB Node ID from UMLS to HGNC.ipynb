{
 "cells": [
  {
   "cell_type": "code",
   "execution_count": null,
   "metadata": {},
   "outputs": [],
   "source": [
    "from kgx import Transformer, NeoTransformer"
   ]
  },
  {
   "cell_type": "code",
   "execution_count": null,
   "metadata": {},
   "outputs": [],
   "source": [
    "# SemMedDB\n",
    "\n",
    "# Credentials can be found from 'Registry of Biolink-compatible Neo4 instances' spreadsheet\n",
    "semmeddb_host = ''\n",
    "ports = {'bolt': 7687}\n",
    "semmeddb_username = ''\n",
    "semmeddb_password = ''\n",
    "\n",
    "# Initialize NeoTransformer\n",
    "semmeddb_transformer = NeoTransformer(host=semmeddb_host, ports=ports, username=semmeddb_username, password=semmeddb_password)"
   ]
  },
  {
   "cell_type": "code",
   "execution_count": null,
   "metadata": {},
   "outputs": [],
   "source": [
    "# Define filters\n",
    "semmeddb_transformer.set_filter(\"subject_category\", \"gene\")\n",
    "semmeddb_transformer.set_filter(\"object_category\", \"chemical_substance\")\n",
    "semmeddb_transformer.set_filter(\"edge_label\", \"coexists_with\")"
   ]
  },
  {
   "cell_type": "code",
   "execution_count": null,
   "metadata": {
    "scrolled": false
   },
   "outputs": [],
   "source": [
    "# Load nodes and edges from SemMedDB\n",
    "start = 0\n",
    "end = 5000\n",
    "semmeddb_transformer.load(start=start, end=end)\n",
    "semmeddb_transformer.report()"
   ]
  },
  {
   "cell_type": "code",
   "execution_count": null,
   "metadata": {},
   "outputs": [],
   "source": [
    "# Nodes of type 'gene' have 'id' in the UMLS namespace\n",
    "gene_nodes = [n for n in semmeddb_transformer.graph.nodes(data=True) if 'gene' in n[1]['category']]\n",
    "gene_nodes\n",
    "\n",
    "# But each node has an 'xrefs' attribute which defines one (or more) mapping to other ID namespace\n",
    "cd47_gene_node = [n for n in semmeddb_transformer.graph.nodes(data=True) if n[1]['name'] == 'CD47 gene']\n",
    "cd47_gene_node"
   ]
  },
  {
   "cell_type": "code",
   "execution_count": null,
   "metadata": {},
   "outputs": [],
   "source": [
    "# We want to remap the node 'id' from UMLS to HGNC namespace\n",
    "# Note: Not all nodes will have an HGNC xref. But for those that do, we can remap the node 'id' from UMLS to HGNC\n",
    "semmeddb_transformer.remap_node_identifier(\"gene\", \"xrefs\", \"HGNC:\")"
   ]
  },
  {
   "cell_type": "code",
   "execution_count": null,
   "metadata": {},
   "outputs": [],
   "source": [
    "# We can confirm that the remap was successful\n",
    "cd47_gene_node = [n for n in semmeddb_transformer.graph.nodes(data=True) if n[1]['name'] == 'CD47 gene']\n",
    "cd47_gene_node"
   ]
  }
 ],
 "metadata": {
  "kernelspec": {
   "display_name": "Python 3",
   "language": "python",
   "name": "python3"
  },
  "language_info": {
   "codemirror_mode": {
    "name": "ipython",
    "version": 3
   },
   "file_extension": ".py",
   "mimetype": "text/x-python",
   "name": "python",
   "nbconvert_exporter": "python",
   "pygments_lexer": "ipython3",
   "version": "3.6.4"
  }
 },
 "nbformat": 4,
 "nbformat_minor": 2
}
