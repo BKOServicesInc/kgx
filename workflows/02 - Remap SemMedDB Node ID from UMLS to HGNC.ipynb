{
 "cells": [
  {
   "cell_type": "code",
   "execution_count": 1,
   "metadata": {},
   "outputs": [
    {
     "name": "stderr",
     "output_type": "stream",
     "text": [
      "/Users/deepak.unni3/GIT/kgx/test/lib/python3.6/site-packages/cachier/mongo_core.py:24: UserWarning: Cachier warning: pymongo was not found. MongoDB cores will not work.\n",
      "  \"Cachier warning: pymongo was not found. MongoDB cores will not work.\")\n"
     ]
    }
   ],
   "source": [
    "from kgx import Transformer, NeoTransformer"
   ]
  },
  {
   "cell_type": "code",
   "execution_count": 63,
   "metadata": {},
   "outputs": [],
   "source": [
    "# SemMedDB\n",
    "\n",
    "# Credentials can be found from 'Registry of Biolink-compatible Neo4 instances' spreadsheet\n",
    "semmeddb_uri = ''\n",
    "semmeddb_username = ''\n",
    "semmeddb_password = ''\n",
    "\n",
    "# Initialize NeoTransformer\n",
    "semmeddb_transformer = NeoTransformer(uri=semmeddb_uri, username=semmeddb_username, password=semmeddb_password)"
   ]
  },
  {
   "cell_type": "code",
   "execution_count": 64,
   "metadata": {},
   "outputs": [],
   "source": [
    "# Define filters\n",
    "semmeddb_transformer.set_filter(\"subject_category\", \"gene\")\n",
    "semmeddb_transformer.set_filter(\"object_category\", \"chemical_substance\")\n",
    "semmeddb_transformer.set_filter(\"edge_label\", \"coexists_with\")"
   ]
  },
  {
   "cell_type": "code",
   "execution_count": 65,
   "metadata": {},
   "outputs": [
    {
     "name": "stdout",
     "output_type": "stream",
     "text": [
      "2018-06-08 17:09:13,275 root       DEBUG      MATCH (n:gene:chemical_substance ) RETURN n SKIP 0 LIMIT 1000;\n",
      "2018-06-08 17:09:13,444 root       DEBUG      MATCH (s:gene)-[p:coexists_with ]->(o:chemical_substance)\n",
      "            RETURN s,p,o\n",
      "            SKIP 0 LIMIT 1000;\n",
      "2018-06-08 17:09:14,400 root       DEBUG      MATCH (s:gene)-[p:coexists_with ]->(o:chemical_substance)\n",
      "            RETURN s,p,o\n",
      "            SKIP 1000 LIMIT 1000;\n",
      "2018-06-08 17:09:15,255 root       DEBUG      MATCH (s:gene)-[p:coexists_with ]->(o:chemical_substance)\n",
      "            RETURN s,p,o\n",
      "            SKIP 2000 LIMIT 1000;\n",
      "2018-06-08 17:09:16,249 root       DEBUG      MATCH (s:gene)-[p:coexists_with ]->(o:chemical_substance)\n",
      "            RETURN s,p,o\n",
      "            SKIP 3000 LIMIT 1000;\n",
      "2018-06-08 17:09:17,000 root       DEBUG      MATCH (s:gene)-[p:coexists_with ]->(o:chemical_substance)\n",
      "            RETURN s,p,o\n",
      "            SKIP 4000 LIMIT 1000;\n",
      "Total number of nodes: 2375\n",
      "Total number of edges: 3162\n"
     ]
    }
   ],
   "source": [
    "# Load nodes and edges from SemMedDB\n",
    "start = 0\n",
    "end = 5000\n",
    "semmeddb_transformer.load(start=start, end=end)\n",
    "semmeddb_transformer.report()"
   ]
  },
  {
   "cell_type": "code",
   "execution_count": 66,
   "metadata": {},
   "outputs": [
    {
     "data": {
      "text/plain": [
       "[('UMLS:C1332713',\n",
       "  {'name': 'CD47 gene',\n",
       "   'xrefs': ['OMIM:601028', 'MTH:NOCODE', 'NCI:C24278', 'HGNC:HGNC:1682'],\n",
       "   'id': 'UMLS:C1332713',\n",
       "   'umls_type': ['Gene or Genome'],\n",
       "   'category': 'gene',\n",
       "   'labels': ['gene']})]"
      ]
     },
     "execution_count": 66,
     "metadata": {},
     "output_type": "execute_result"
    }
   ],
   "source": [
    "# Nodes of type 'gene' have 'id' in the UMLS namespace\n",
    "gene_nodes = [n for n in semmeddb_transformer.graph.nodes(data=True) if 'gene' in n[1]['labels']]\n",
    "gene_nodes\n",
    "\n",
    "# But each node has an 'xrefs' attribute which defines one (or more) mapping to other ID namespace\n",
    "cd47_gene_node = [n for n in semmeddb_transformer.graph.nodes(data=True) if n[1]['name'] == 'CD47 gene']\n",
    "cd47_gene_node"
   ]
  },
  {
   "cell_type": "code",
   "execution_count": 67,
   "metadata": {},
   "outputs": [],
   "source": [
    "# We want to remap the node 'id' from UMLS to HGNC namespace\n",
    "# Note: Not all nodes will have an HGNC xref. But for those that do, we can remap the node 'id' from UMLS to HGNC\n",
    "semmeddb_transformer.remap_node_identifier(\"gene\", \"xrefs\", \"HGNC:\")"
   ]
  },
  {
   "cell_type": "code",
   "execution_count": 69,
   "metadata": {},
   "outputs": [
    {
     "data": {
      "text/plain": [
       "[('HGNC:1682',\n",
       "  {'name': 'CD47 gene',\n",
       "   'xrefs': ['OMIM:601028', 'MTH:NOCODE', 'NCI:C24278', 'HGNC:HGNC:1682'],\n",
       "   'id': 'HGNC:1682',\n",
       "   'umls_type': ['Gene or Genome'],\n",
       "   'category': 'gene',\n",
       "   'labels': ['gene']})]"
      ]
     },
     "execution_count": 69,
     "metadata": {},
     "output_type": "execute_result"
    }
   ],
   "source": [
    "# We can confirm that the remap was successful\n",
    "cd47_gene_node = [n for n in semmeddb_transformer.graph.nodes(data=True) if n[1]['name'] == 'CD47 gene']\n",
    "cd47_gene_node"
   ]
  }
 ],
 "metadata": {
  "kernelspec": {
   "display_name": "Python 3",
   "language": "python",
   "name": "python3"
  },
  "language_info": {
   "codemirror_mode": {
    "name": "ipython",
    "version": 3
   },
   "file_extension": ".py",
   "mimetype": "text/x-python",
   "name": "python",
   "nbconvert_exporter": "python",
   "pygments_lexer": "ipython3",
   "version": "3.6.4"
  }
 },
 "nbformat": 4,
 "nbformat_minor": 2
}
