{
 "cells": [
  {
   "cell_type": "code",
   "execution_count": null,
   "metadata": {},
   "outputs": [],
   "source": [
    "from kgx import Transformer, NeoTransformer"
   ]
  },
  {
   "cell_type": "code",
   "execution_count": null,
   "metadata": {},
   "outputs": [],
   "source": [
    "# Monarch-Lite\n",
    "\n",
    "# Credentials can be found from 'Registry of Biolink-compatible Neo4 instances' spreadsheet\n",
    "monarch_host = ''\n",
    "ports = {'bolt': 7687}\n",
    "monarch_username = ''\n",
    "monarch_password = ''\n",
    "\n",
    "# Initialize NeoTransformer\n",
    "monarch_lite_transformer = NeoTransformer(host=monarch_host, ports=ports, username=monarch_username, password=monarch_password)\n",
    "\n",
    "# Define filters\n",
    "monarch_lite_transformer.set_filter(\"subject_category\", \"gene\")\n",
    "monarch_lite_transformer.set_filter(\"object_category\", \"disease\")\n",
    "monarch_lite_transformer.set_filter(\"edge_label\", \"contributes_to\")\n",
    "\n",
    "# Load nodes and edges from remote Monarch-Lite Neo4j instance\n",
    "start = 0\n",
    "end = 20000\n",
    "monarch_lite_transformer.load(start=start, end=end)\n",
    "monarch_lite_transformer.report()"
   ]
  },
  {
   "cell_type": "code",
   "execution_count": null,
   "metadata": {},
   "outputs": [],
   "source": [
    "# SemMedDB\n",
    "\n",
    "# Credentials can be found from 'Registry of Biolink-compatible Neo4 instances' spreadsheet\n",
    "semmeddb_host = ''\n",
    "ports = {'bolt': 7687}\n",
    "semmeddb_username = ''\n",
    "semmeddb_password = ''\n",
    "\n",
    "# Initialize NeoTransformer\n",
    "semmeddb_transformer = NeoTransformer(host=semmeddb_host, ports=ports, username=semmeddb_username, password=semmeddb_password)\n",
    "\n",
    "# Define filters\n",
    "semmeddb_transformer.set_filter(\"subject_category\", \"gene\")\n",
    "semmeddb_transformer.set_filter(\"object_category\", \"chemical_substance\")\n",
    "semmeddb_transformer.set_filter(\"edge_label\", \"coexists_with\")\n",
    "\n",
    "# Load nodes and edges from remote SemMedDB Neo4j instance\n",
    "start = 0\n",
    "end = 20000\n",
    "semmeddb_transformer.load(start=start, end=end)\n",
    "semmeddb_transformer.report()"
   ]
  },
  {
   "cell_type": "code",
   "execution_count": null,
   "metadata": {},
   "outputs": [],
   "source": [
    "# First, we perform a remap operation to bring SemMedDB gene nodes to HGNC namespace\n",
    "semmeddb_transformer.remap_node_identifier(\"gene\", \"xrefs\", \"HGNC:\")"
   ]
  },
  {
   "cell_type": "code",
   "execution_count": null,
   "metadata": {},
   "outputs": [],
   "source": [
    "# Then we merge Monarch-Lite graph with SemMedDB graph\n",
    "graphs = [monarch_lite_transformer.graph, semmeddb_transformer.graph]\n",
    "merged_transformer = Transformer()\n",
    "merged_transformer.merge(graphs)"
   ]
  },
  {
   "cell_type": "code",
   "execution_count": null,
   "metadata": {},
   "outputs": [],
   "source": [
    "# Now, we get a gene common in both the graphs\n",
    "rad51_gene_node = [n for n in merged_transformer.graph.nodes(data=True) if n[1]['id'] == 'HGNC:9817'][0]\n",
    "rad51_gene_node"
   ]
  },
  {
   "cell_type": "code",
   "execution_count": null,
   "metadata": {
    "scrolled": false
   },
   "outputs": [],
   "source": [
    "# we get all out-going edges from RAD51 gene node\n",
    "out_edges = merged_transformer.graph.out_edges(rad51_gene_node[0], data=True)\n",
    "\n",
    "# we can see that there are 5 edges going to disease nodes (from Monarch-Lite) \n",
    "# and 7 edges going to chemical_substance nodes\n",
    "out_edges"
   ]
  },
  {
   "cell_type": "code",
   "execution_count": null,
   "metadata": {},
   "outputs": [],
   "source": []
  }
 ],
 "metadata": {
  "kernelspec": {
   "display_name": "Python 3",
   "language": "python",
   "name": "python3"
  },
  "language_info": {
   "codemirror_mode": {
    "name": "ipython",
    "version": 3
   },
   "file_extension": ".py",
   "mimetype": "text/x-python",
   "name": "python",
   "nbconvert_exporter": "python",
   "pygments_lexer": "ipython3",
   "version": "3.6.4"
  }
 },
 "nbformat": 4,
 "nbformat_minor": 2
}
